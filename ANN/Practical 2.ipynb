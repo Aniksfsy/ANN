{
 "cells": [
  {
   "cell_type": "code",
   "execution_count": 10,
   "id": "40c79cf2",
   "metadata": {},
   "outputs": [],
   "source": [
    "import numpy as np"
   ]
  },
  {
   "cell_type": "code",
   "execution_count": 11,
   "id": "dc202307",
   "metadata": {},
   "outputs": [],
   "source": [
    "def mp_neuran(inputs, weights, threshold):\n",
    "    net = np.dot(inputs, weights)\n",
    "    if net >= threshold:\n",
    "        output = 1\n",
    "    else: \n",
    "        output = 0\n",
    "    return output"
   ]
  },
  {
   "cell_type": "code",
   "execution_count": 12,
   "id": "a8dd3243",
   "metadata": {},
   "outputs": [],
   "source": [
    "def andnot_nn(inputs):\n",
    "    weights = [-2, 1]\n",
    "    threshold = 0\n",
    "    outputs = [mp_neuran(inputs, weights, threshold) for weights in [[-1, 1], [1, -1]]]\n",
    "    if outputs[0] == 1 and outputs[1] == 0:\n",
    "        output = 1\n",
    "    else:\n",
    "        output = 0\n",
    "    return output"
   ]
  },
  {
   "cell_type": "code",
   "execution_count": 21,
   "id": "67f91fc1",
   "metadata": {},
   "outputs": [
    {
     "name": "stdout",
     "output_type": "stream",
     "text": [
      "Inputs:\n",
      " [[0 0]\n",
      " [0 1]\n",
      " [1 0]\n",
      " [1 1]]\n",
      "Outputs:  [0, 1, 0, 0]\n"
     ]
    }
   ],
   "source": [
    "inputs = np.array([[0, 0], [0, 1], [1, 0], [1, 1]])\n",
    "outputs = []\n",
    "\n",
    "for i in range(inputs.shape[0]):\n",
    "    y = andnot_nn(inputs[i].reshape(1, -1))\n",
    "    outputs.append(y)\n",
    "\n",
    "print(\"Inputs:\\n\", inputs)\n",
    "print(\"Outputs: \", outputs)"
   ]
  }
 ],
 "metadata": {
  "kernelspec": {
   "display_name": "Python 3 (ipykernel)",
   "language": "python",
   "name": "python3"
  },
  "language_info": {
   "codemirror_mode": {
    "name": "ipython",
    "version": 3
   },
   "file_extension": ".py",
   "mimetype": "text/x-python",
   "name": "python",
   "nbconvert_exporter": "python",
   "pygments_lexer": "ipython3",
   "version": "3.11.9"
  }
 },
 "nbformat": 4,
 "nbformat_minor": 5
}
